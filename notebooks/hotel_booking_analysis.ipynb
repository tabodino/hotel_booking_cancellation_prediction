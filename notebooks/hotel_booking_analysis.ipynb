{
 "cells": [
  {
   "cell_type": "markdown",
   "id": "a765952c-32c1-44d2-96ab-b8cc167bb78d",
   "metadata": {},
   "source": [
    "# Hostel Booking and Revenue Analysis"
   ]
  },
  {
   "cell_type": "markdown",
   "id": "3c388343-ee29-40d9-b42c-7659b7317aa4",
   "metadata": {},
   "source": [
    "Hotel booking cancellations can significantly disrupt operations, leading to lost revenue and inefficient resource allocation. The goal is to build a predictive model that identifies the likelihood of a booking being cancelled, enabling proactive strategies such as overbooking, dynamic pricing, and targeted guest engagement."
   ]
  },
  {
   "cell_type": "markdown",
   "id": "58b82669-fab6-44f0-a772-bfca92503aad",
   "metadata": {},
   "source": [
    "**Dataset**: [Hotel Revenue 2024 - Kaggle](https://www.kaggle.com/datasets/omarsobhy14/hotel-revenue2024)\n",
    "\n",
    "  "
   ]
  },
  {
   "cell_type": "code",
   "execution_count": 1,
   "id": "672540d2-d65d-4c19-89e7-b83addd1d17a",
   "metadata": {},
   "outputs": [],
   "source": [
    "# libraries import\n",
    "import matplotlib.pyplot as plt\n",
    "import seaborn as sns\n",
    "\n",
    "from pyspark.sql import SparkSession\n",
    "from pyspark import SparkContext\n",
    "from pyspark.conf import SparkConf\n",
    "from pyspark.sql.functions import col, count, when, isnan, sum as spark_sum"
   ]
  },
  {
   "cell_type": "markdown",
   "id": "18baaf82-1d0e-49d5-b25c-ae7719e905eb",
   "metadata": {},
   "source": [
    "## 1. Load data"
   ]
  },
  {
   "cell_type": "code",
   "execution_count": 3,
   "id": "4921babd-1433-42fb-8c5b-ea53df16b193",
   "metadata": {},
   "outputs": [
    {
     "name": "stdout",
     "output_type": "stream",
     "text": [
      "Spark Session created - Version: 4.0.0\n",
      "Python 3.11.2\n"
     ]
    }
   ],
   "source": [
    "conf = SparkConf()\n",
    "\n",
    "sc = SparkContext.getOrCreate(conf=conf)\n",
    "sc.setLogLevel(\"ERROR\")\n",
    "\n",
    "spark = SparkSession \\\n",
    "    .builder \\\n",
    "    .master(\"local[*]\") \\\n",
    "    .appName(\"Hotel Booking Cancellation Prediction\") \\\n",
    "    .getOrCreate()\n",
    "\n",
    "print(f\"Spark Session created - Version: {spark.version}\")\n",
    "!python --version"
   ]
  },
  {
   "cell_type": "code",
   "execution_count": 4,
   "id": "b8d7d3d2-1700-4239-99eb-76d5eac759d2",
   "metadata": {},
   "outputs": [
    {
     "name": "stdout",
     "output_type": "stream",
     "text": [
      "Dataset loaded: 109 lines, 38 columns\n"
     ]
    }
   ],
   "source": [
    "data_path = \"../data/raw/hotel-revenue-2024.csv\"\n",
    "\n",
    "df = spark.read.option(\"header\", True)\\\n",
    "               .option(\"inferSchema\", True)\\\n",
    "               .option(\"escape\", \"\\\"\")\\\n",
    "               .csv(data_path)\n",
    "\n",
    "total_rows = df.count()\n",
    "total_columns = len(df.columns)\n",
    "print(f\"Dataset loaded: {total_rows} lines, {total_columns} columns\")"
   ]
  },
  {
   "cell_type": "markdown",
   "id": "df3a3d07-be8a-48e8-9286-9b1f425c80dc",
   "metadata": {},
   "source": [
    "## 2. Exploratory Data Analysis"
   ]
  },
  {
   "cell_type": "code",
   "execution_count": 5,
   "id": "5183c188-a757-498b-8669-f537254e5424",
   "metadata": {},
   "outputs": [
    {
     "name": "stdout",
     "output_type": "stream",
     "text": [
      "root\n",
      " |-- Date: string (nullable = true)\n",
      " |-- Month: integer (nullable = true)\n",
      " |-- Weekday: integer (nullable = true)\n",
      " |-- Season: string (nullable = true)\n",
      " |-- Holiday: integer (nullable = true)\n",
      " |-- Marketing_Spend: integer (nullable = true)\n",
      " |-- Revenue: integer (nullable = true)\n",
      " |-- Room_Revenue: integer (nullable = true)\n",
      " |-- Occupancy_Rate: double (nullable = true)\n",
      " |-- ADR: integer (nullable = true)\n",
      " |-- RevPAR: double (nullable = true)\n",
      " |-- Available_Rooms: integer (nullable = true)\n",
      " |-- Reserved_Rooms: integer (nullable = true)\n",
      " |-- Booking_Channel: string (nullable = true)\n",
      " |-- Guest_Type: string (nullable = true)\n",
      " |-- Market_Segment: double (nullable = true)\n",
      " |-- Guest_Country: string (nullable = true)\n",
      " |-- Complaints: integer (nullable = true)\n",
      " |-- Compliment: integer (nullable = true)\n",
      " |-- Bookings: integer (nullable = true)\n",
      " |-- No_Shows: integer (nullable = true)\n",
      " |-- Cancellations: integer (nullable = true)\n",
      " |-- Checkouts: integer (nullable = true)\n",
      " |-- New_Bookings: integer (nullable = true)\n",
      " |-- Checkins: integer (nullable = true)\n",
      " |-- Average_Review_Score: double (nullable = true)\n",
      " |-- Revenue_Managed_Guests: integer (nullable = true)\n",
      " |-- RevPAR_Managed_Guests: double (nullable = true)\n",
      " |-- Occupancy_Managed_Guests: integer (nullable = true)\n",
      " |-- RevPAR_All: double (nullable = true)\n",
      " |-- Occupancy_All: double (nullable = true)\n",
      " |-- Room_Revenue_All: integer (nullable = true)\n",
      " |-- Total_Revenue: integer (nullable = true)\n",
      " |-- Operating_Expenses: integer (nullable = true)\n",
      " |-- Fixed_Costs: integer (nullable = true)\n",
      " |-- Variable_Costs: integer (nullable = true)\n",
      " |-- Total_Costs: integer (nullable = true)\n",
      " |-- Profit: string (nullable = true)\n",
      "\n"
     ]
    }
   ],
   "source": [
    "df.printSchema()"
   ]
  },
  {
   "cell_type": "markdown",
   "id": "c668cc12-f8ee-4cb0-80be-5ade5305b298",
   "metadata": {},
   "source": [
    "### Column details from the Kaggle documentation\n",
    "\n",
    "- **Date:** The date of the recorded data.\n",
    "- **Month:** Numeric representation of the month.\n",
    "- **Day of the Week:** Numeric representation of the day in a week.\n",
    "- **Season:** Categorical representation of the season (e.g., Winter, Spring, Summer, Fall).\n",
    "- **Public Holiday:** Binary indicator (0 or 1) denoting whether it's a public holiday.\n",
    "- **Previous Month Revenue:** Revenue generated in the previous month.\n",
    "- **Year-over-Year Revenue:** Revenue compared to the same month the previous year.\n",
    "- **Monthly Trend:** Trend in revenue or occupancy for the month.\n",
    "- **Occupancy Rate:** Percentage of rooms occupied.\n",
    "- **Average Daily Rate (ADR):** Average rate charged per occupied room.\n",
    "- **Revenue per Available Room (RevPAR):** Revenue generated per available room.\n",
    "- **Booking Lead Time:** Average lead time between booking and stay.\n",
    "- **Booking Cancellations:** Percentage of bookings cancelled.\n",
    "- **Booking Source:** Source of the booking (e.g., Direct, OTA).\n",
    "- **Guest Type:** Type of guest (e.g., Leisure, Business).\n",
    "- **Repeat Guests:** Percentage of guests who are repeat visitors.\n",
    "- **Nationality:** Nationality of guests.\n",
    "- **Group Bookings:** Binary indicator denoting group bookings.\n",
    "- **Discounts and Promotions:** Use of discounts or promotions.\n",
    "- **Room Rate:** Average rate charged for rooms.\n",
    "- **Local Events:** Presence of local events influencing occupancy.\n",
    "- **Hotel Events:** Events hosted by the hotel affecting operations.\n",
    "- **Competitor Rates:** Rates offered by competitors.\n",
    "- **Weather Conditions:** Local weather conditions influencing guest behavior.\n",
    "- **Economic Indicators:** Economic factors influencing hotel performance.\n",
    "- **Staff Levels:** Staffing levels affecting service quality.\n",
    "- **Guest Satisfaction:** Guest satisfaction ratings.\n",
    "- **Maintenance Issues:** Issues related to maintenance affecting operations.\n",
    "- **Marketing Spend:** Expenditure on marketing activities.\n",
    "- **Online Reviews:** Ratings and reviews provided online.\n",
    "- **Social Media Engagement:** Engagement metrics on social media platforms.\n",
    "- **Seasonal Adjustments:** Adjustments made for seasonal variations.\n",
    "- **Trend Adjustments:** Adjustments made for trending factors.\n",
    "- **Room Revenue:** Total revenue from room bookings.\n",
    "- **Food and Beverage Revenue:** Revenue from food and beverage services.\n",
    "- **Other Services Revenue:** Revenue from other hotel services.\n",
    "- **Total Revenue for the Month:** Overall revenue generated for the month."
   ]
  },
  {
   "cell_type": "code",
   "execution_count": 6,
   "id": "7e1cb20b-35dd-45c4-afa6-062eca642bcf",
   "metadata": {},
   "outputs": [],
   "source": [
    "# Renaming columns for better understanding\n",
    "cols_dict = {\n",
    "    \"Holiday\": \"Public_Holiday\",\n",
    "    \"ADR\": \"Average_Daily_Rate\",\n",
    "    \"Cancellations\": \"Booking_Cancellations\",\n",
    "    \"Booking Source\": \"Booking_Channel\",\n",
    "}\n",
    "\n",
    "for old_name, new_name in cols_dict.items():\n",
    "    df = df.withColumnRenamed(old_name, new_name)"
   ]
  },
  {
   "cell_type": "markdown",
   "id": "983690bb-d93c-44dd-be03-7929c6ea5cbd",
   "metadata": {},
   "source": [
    "### Missing values"
   ]
  },
  {
   "cell_type": "code",
   "execution_count": null,
   "id": "8f611915-9c54-4386-8519-5ee5b39d2054",
   "metadata": {},
   "outputs": [],
   "source": []
  },
  {
   "cell_type": "code",
   "execution_count": 7,
   "id": "6687b000-b116-444c-a643-25814b9fd20c",
   "metadata": {},
   "outputs": [
    {
     "name": "stdout",
     "output_type": "stream",
     "text": [
      "Total missing values: 109\n",
      "Global missing percentage: 2.63%\n"
     ]
    }
   ],
   "source": [
    "import builtins\n",
    "\n",
    "total_cells = total_rows * total_columns\n",
    "\n",
    "# Total number of nulls per column\n",
    "null_counts = df.select([\n",
    "    spark_sum(when(col(c).isNull(), 1).otherwise(0)).alias(c)\n",
    "    for c in df.columns\n",
    "]).collect()[0].asDict()\n",
    "\n",
    "# Total number of nulls in DataFrame\n",
    "total_nulls = builtins.sum(null_counts.values())\n",
    "\n",
    "# Global missing value percentage\n",
    "missing_pct_global = (total_nulls / total_cells) * 100\n",
    "\n",
    "print(f\"Total missing values: {total_nulls}\")\n",
    "print(f\"Global missing percentage: {missing_pct_global:.2f}%\")"
   ]
  },
  {
   "cell_type": "code",
   "execution_count": 8,
   "id": "5655eb39-dcbb-441d-ad73-e77e5b4f27f2",
   "metadata": {},
   "outputs": [
    {
     "data": {
      "text/plain": [
       "{'Profit': {'missing_count': 109, 'missing_pct': 100.0}}"
      ]
     },
     "execution_count": 8,
     "metadata": {},
     "output_type": "execute_result"
    }
   ],
   "source": [
    "# Get columns with missing values\n",
    "missing_by_column = {\n",
    "    col_name: {\n",
    "        'missing_count': count,\n",
    "        'missing_pct': (count / df.count()) * 100\n",
    "    }\n",
    "    for col_name, count in null_counts.items()\n",
    "    if count > 0\n",
    "}\n",
    "missing_by_column"
   ]
  },
  {
   "cell_type": "code",
   "execution_count": 35,
   "id": "c91f99d7-d4ee-41cd-9d2a-ccaeb2d0037e",
   "metadata": {},
   "outputs": [
    {
     "data": {
      "text/plain": [
       "{'Profit': 1.0}"
      ]
     },
     "execution_count": 35,
     "metadata": {},
     "output_type": "execute_result"
    }
   ],
   "source": [
    "from pyspark.sql.functions import col, count, when, isnan\n",
    "from pyspark.sql.types import FloatType, DoubleType\n",
    "\n",
    "def missing_columns_typed(df):\n",
    "    total_rows = df.count()\n",
    "    result_exprs = []\n",
    "    schema = dict(df.dtypes)\n",
    "\n",
    "    for c in df.columns:\n",
    "        dtype = schema[c]\n",
    "        if dtype in ['float', 'double']:\n",
    "            # For floating-point numeric types, include isnan\n",
    "            expr = (count(when(col(c).isNull() | isnan(col(c)), c)) / total_rows).alias(c)\n",
    "        else:\n",
    "            # For other types, only isNull\n",
    "            expr = (count(when(col(c).isNull(), c)) / total_rows).alias(c)\n",
    "\n",
    "        result_exprs.append(expr)\n",
    "\n",
    "    # Percent\n",
    "    missing_stats = df.select(result_exprs)\n",
    "    missing_dict = missing_stats.first().asDict()\n",
    "\n",
    "    # Filter columns with missing values\n",
    "    filtered = {k: v for k, v in missing_dict.items() if v > 0}\n",
    "\n",
    "    return filtered\n",
    "    \n",
    "missing_columns_typed(df)"
   ]
  },
  {
   "cell_type": "markdown",
   "id": "01bc330a-9030-498c-ab1a-2cb4bec06347",
   "metadata": {},
   "source": [
    "### Duplicated values"
   ]
  },
  {
   "cell_type": "code",
   "execution_count": 9,
   "id": "4b919774-574c-44b7-aca9-1d1b4673d3fb",
   "metadata": {},
   "outputs": [
    {
     "name": "stdout",
     "output_type": "stream",
     "text": [
      "Duplicated rows : 0\n"
     ]
    }
   ],
   "source": [
    "duplicates = df.groupBy(df.columns) \\\n",
    "               .agg(count(\"*\").alias(\"count\")) \\\n",
    "               .filter(\"count > 1\")\n",
    "\n",
    "print(f\"Duplicated rows : {duplicates.count()}\")"
   ]
  },
  {
   "cell_type": "markdown",
   "id": "930201ca-81bb-41cf-a6e1-9813fd820cbd",
   "metadata": {},
   "source": [
    "### Values types"
   ]
  },
  {
   "cell_type": "code",
   "execution_count": 10,
   "id": "ab2540ad-153b-4ff3-9d59-6f34bda1146e",
   "metadata": {},
   "outputs": [
    {
     "name": "stdout",
     "output_type": "stream",
     "text": [
      "Numerical features: 32\n",
      "Categorical features: 6\n",
      "Total features: 38\n"
     ]
    }
   ],
   "source": [
    "num_categorical = 0\n",
    "num_numerical = 0\n",
    "\n",
    "for field in df.schema.fields:\n",
    "    dtype = field.dataType.simpleString()\n",
    "    if dtype in ['string', 'boolean', 'date']:\n",
    "        num_categorical += 1\n",
    "    else:\n",
    "        num_numerical +=1\n",
    "\n",
    "print(f\"Numerical features: {num_numerical}\")\n",
    "print(f\"Categorical features: {num_categorical}\")\n",
    "print(f\"Total features: {num_categorical + num_numerical}\")"
   ]
  },
  {
   "cell_type": "markdown",
   "id": "367a21df-999d-4adf-9b68-8055a08094ef",
   "metadata": {},
   "source": [
    "### Outlier Detection"
   ]
  },
  {
   "cell_type": "code",
   "execution_count": 14,
   "id": "138f6542-87c9-4210-bb20-ea81dbbf85e5",
   "metadata": {},
   "outputs": [
    {
     "name": "stdout",
     "output_type": "stream",
     "text": [
      "Potential outliers: \n",
      " {'Public_Holiday': 13, 'Total_Costs': 25}\n"
     ]
    }
   ],
   "source": [
    "from pyspark.sql.types import NumericType\n",
    "\n",
    "numeric_cols = [field.name for field in df.schema.fields if isinstance(field.dataType, NumericType)]\n",
    "\n",
    "outliers = {}\n",
    "\n",
    "if numeric_cols:\n",
    "\n",
    "    for col_name in numeric_cols:\n",
    "        # Approximation of quantiles Q1 and Q3\n",
    "        Q1, Q3 = df.approxQuantile(col_name, [0.25, 0.75], 0.01)\n",
    "        IQR = Q3 - Q1\n",
    "        lower_bound = Q1 - 1.5 * IQR\n",
    "        upper_bound = Q3 + 1.5 * IQR\n",
    "\n",
    "        # Filter outliers\n",
    "        outlier_count = df.filter((col(col_name) < lower_bound) | (col(col_name) > upper_bound)).count()\n",
    "\n",
    "        if outlier_count > 0:\n",
    "            outliers[col_name] = outlier_count\n",
    "            \n",
    "print(\"Potential outliers: \\n\", outliers)"
   ]
  },
  {
   "cell_type": "code",
   "execution_count": 53,
   "id": "e7901a6d-eb1e-4b35-9e5e-81b76e4adce9",
   "metadata": {},
   "outputs": [
    {
     "data": {
      "image/png": "[encoded data removed]",
      "text/plain": [
       "<Figure size 1600x400 with 2 Axes>"
      ]
     },
     "metadata": {},
     "output_type": "display_data"
    }
   ],
   "source": [
    "plt.figure(figsize=(16, 4))\n",
    "\n",
    "for i, col in enumerate(df_outliers.columns):\n",
    "    plt.subplot(1, 2, i +1)\n",
    "    plt.boxplot(df_outliers[col])\n",
    "    plt.title(f\"Boxplot of column {col}\")\n",
    "    plt.grid(True)\n",
    "\n",
    "plt.tight_layout()\n",
    "plt.show()"
   ]
  },
  {
   "cell_type": "code",
   "execution_count": 31,
   "id": "03871958-ef7c-4073-b11b-50a5f020ad10",
   "metadata": {},
   "outputs": [
    {
     "data": {
      "text/plain": [
       "Public_Holiday\n",
       "0    96\n",
       "1    13\n",
       "Name: count, dtype: int64"
      ]
     },
     "metadata": {},
     "output_type": "display_data"
    },
    {
     "data": {
      "text/plain": [
       "Total_Costs\n",
       "15000    32\n",
       "12000    16\n",
       "14000    16\n",
       "20000    16\n",
       "15500     9\n",
       "13000     9\n",
       "21500     5\n",
       "18000     3\n",
       "16000     2\n",
       "19500     1\n",
       "Name: count, dtype: int64"
      ]
     },
     "metadata": {},
     "output_type": "display_data"
    }
   ],
   "source": [
    "display(df_outliers['Public_Holiday'].value_counts())\n",
    "display(df_outliers['Total_Costs'].value_counts())"
   ]
  }
 ],
 "metadata": {
  "kernelspec": {
   "display_name": "Python 3 (ipykernel)",
   "language": "python",
   "name": "python3"
  },
  "language_info": {
   "codemirror_mode": {
    "name": "ipython",
    "version": 3
   },
   "file_extension": ".py",
   "mimetype": "text/x-python",
   "name": "python",
   "nbconvert_exporter": "python",
   "pygments_lexer": "ipython3",
   "version": "3.11.2"
  }
 },
 "nbformat": 4,
 "nbformat_minor": 5
}
